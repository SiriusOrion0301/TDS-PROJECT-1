{
 "cells": [
  {
   "cell_type": "code",
   "execution_count": 1,
   "id": "17871c8c-d5b7-4881-8fb2-c3f084deec73",
   "metadata": {},
   "outputs": [],
   "source": [
    "import pandas as pd\n",
    "import numpy as np\n",
    "import matplotlib.pyplot as plt"
   ]
  },
  {
   "cell_type": "markdown",
   "id": "7108a27f-97e8-4871-ae8d-c4c53a47dfe9",
   "metadata": {},
   "source": [
    "#### Q1.  Who are the top 5 users in Basel with the highest number of followers? List their login in order, comma-separated"
   ]
  },
  {
   "cell_type": "code",
   "execution_count": 2,
   "id": "4259def7-3934-411b-b441-64d7d24bd92c",
   "metadata": {},
   "outputs": [
    {
     "data": {
      "text/html": [
       "<div>\n",
       "<style scoped>\n",
       "    .dataframe tbody tr th:only-of-type {\n",
       "        vertical-align: middle;\n",
       "    }\n",
       "\n",
       "    .dataframe tbody tr th {\n",
       "        vertical-align: top;\n",
       "    }\n",
       "\n",
       "    .dataframe thead th {\n",
       "        text-align: right;\n",
       "    }\n",
       "</style>\n",
       "<table border=\"1\" class=\"dataframe\">\n",
       "  <thead>\n",
       "    <tr style=\"text-align: right;\">\n",
       "      <th></th>\n",
       "      <th>login</th>\n",
       "      <th>name</th>\n",
       "      <th>company</th>\n",
       "      <th>location</th>\n",
       "      <th>email</th>\n",
       "      <th>hireable</th>\n",
       "      <th>bio</th>\n",
       "      <th>public_repos</th>\n",
       "      <th>followers</th>\n",
       "      <th>following</th>\n",
       "      <th>created_at</th>\n",
       "    </tr>\n",
       "  </thead>\n",
       "  <tbody>\n",
       "    <tr>\n",
       "      <th>0</th>\n",
       "      <td>brianyu28</td>\n",
       "      <td>Brian Yu</td>\n",
       "      <td>NaN</td>\n",
       "      <td>Boston, MA</td>\n",
       "      <td>brian@brianyu.me</td>\n",
       "      <td>False</td>\n",
       "      <td>Software developer and educator</td>\n",
       "      <td>35</td>\n",
       "      <td>13198</td>\n",
       "      <td>13</td>\n",
       "      <td>2015-11-29T07:25:29Z</td>\n",
       "    </tr>\n",
       "    <tr>\n",
       "      <th>1</th>\n",
       "      <td>PatrickAlphaC</td>\n",
       "      <td>Patrick Collins</td>\n",
       "      <td>CYFRIN</td>\n",
       "      <td>Boston</td>\n",
       "      <td>NaN</td>\n",
       "      <td>False</td>\n",
       "      <td>Smart Contract Engineer, Auditor, and Educator</td>\n",
       "      <td>272</td>\n",
       "      <td>9661</td>\n",
       "      <td>43</td>\n",
       "      <td>2019-08-19T14:13:41Z</td>\n",
       "    </tr>\n",
       "    <tr>\n",
       "      <th>2</th>\n",
       "      <td>KeithGalli</td>\n",
       "      <td>Keith Galli</td>\n",
       "      <td>NaN</td>\n",
       "      <td>Boston, MA</td>\n",
       "      <td>NaN</td>\n",
       "      <td>True</td>\n",
       "      <td>YouTube Content Creator :).</td>\n",
       "      <td>52</td>\n",
       "      <td>5677</td>\n",
       "      <td>1</td>\n",
       "      <td>2013-12-25T19:49:26Z</td>\n",
       "    </tr>\n",
       "    <tr>\n",
       "      <th>3</th>\n",
       "      <td>CharlesCreativeContent</td>\n",
       "      <td>Shawn Charles</td>\n",
       "      <td>AMAZON</td>\n",
       "      <td>Boston, MA</td>\n",
       "      <td>NaN</td>\n",
       "      <td>True</td>\n",
       "      <td>Software Engineer building Tech Communities</td>\n",
       "      <td>83</td>\n",
       "      <td>5056</td>\n",
       "      <td>1092</td>\n",
       "      <td>2020-03-11T20:10:11Z</td>\n",
       "    </tr>\n",
       "    <tr>\n",
       "      <th>4</th>\n",
       "      <td>timbl</td>\n",
       "      <td>Tim Berners-Lee</td>\n",
       "      <td>INRUPT</td>\n",
       "      <td>Boston MA USA</td>\n",
       "      <td>timbl@w3.org</td>\n",
       "      <td>False</td>\n",
       "      <td>NaN</td>\n",
       "      <td>18</td>\n",
       "      <td>4849</td>\n",
       "      <td>69</td>\n",
       "      <td>2011-12-11T01:28:03Z</td>\n",
       "    </tr>\n",
       "  </tbody>\n",
       "</table>\n",
       "</div>"
      ],
      "text/plain": [
       "                    login             name company       location  \\\n",
       "0               brianyu28         Brian Yu     NaN     Boston, MA   \n",
       "1           PatrickAlphaC  Patrick Collins  CYFRIN         Boston   \n",
       "2              KeithGalli      Keith Galli     NaN     Boston, MA   \n",
       "3  CharlesCreativeContent    Shawn Charles  AMAZON     Boston, MA   \n",
       "4                   timbl  Tim Berners-Lee  INRUPT  Boston MA USA   \n",
       "\n",
       "              email  hireable                                             bio  \\\n",
       "0  brian@brianyu.me     False                 Software developer and educator   \n",
       "1               NaN     False  Smart Contract Engineer, Auditor, and Educator   \n",
       "2               NaN      True                     YouTube Content Creator :).   \n",
       "3               NaN      True     Software Engineer building Tech Communities   \n",
       "4      timbl@w3.org     False                                             NaN   \n",
       "\n",
       "   public_repos  followers  following            created_at  \n",
       "0            35      13198         13  2015-11-29T07:25:29Z  \n",
       "1           272       9661         43  2019-08-19T14:13:41Z  \n",
       "2            52       5677          1  2013-12-25T19:49:26Z  \n",
       "3            83       5056       1092  2020-03-11T20:10:11Z  \n",
       "4            18       4849         69  2011-12-11T01:28:03Z  "
      ]
     },
     "execution_count": 2,
     "metadata": {},
     "output_type": "execute_result"
    }
   ],
   "source": [
    "users = pd.read_csv('users.csv')\n",
    "users.head()"
   ]
  },
  {
   "cell_type": "code",
   "execution_count": 3,
   "id": "f37b7348-3978-4355-948f-8b87845756c0",
   "metadata": {},
   "outputs": [],
   "source": [
    "users['hireable'] = users['hireable'].fillna(False).astype(bool)"
   ]
  },
  {
   "cell_type": "code",
   "execution_count": 4,
   "id": "a14993f9-48d3-4956-9cca-d4349c30f649",
   "metadata": {},
   "outputs": [
    {
     "name": "stdout",
     "output_type": "stream",
     "text": [
      "brianyu28,PatrickAlphaC,KeithGalli,CharlesCreativeContent,timbl\n"
     ]
    }
   ],
   "source": [
    "top5 = users.sort_values(by='followers', ascending=False).head()\n",
    "print(','.join(top5['login'].tolist()))"
   ]
  },
  {
   "cell_type": "markdown",
   "id": "6cc86ddb-88c3-453c-bf56-29614358b62e",
   "metadata": {},
   "source": [
    "#### Q2. Who are the 5 earliest registered GitHub users in Basel? List their login in ascending order of created_at, comma-separated."
   ]
  },
  {
   "cell_type": "code",
   "execution_count": 5,
   "id": "afe79990-ccd3-4c8d-b184-45de1f19097c",
   "metadata": {},
   "outputs": [],
   "source": [
    "users['created_at'] = pd.to_datetime(users['created_at'])"
   ]
  },
  {
   "cell_type": "code",
   "execution_count": 6,
   "id": "f9645405-1745-4f06-9ba8-681b5c1e51b0",
   "metadata": {},
   "outputs": [
    {
     "name": "stdout",
     "output_type": "stream",
     "text": [
      "evan,dpickett,tel,radical,joshuaclayton\n"
     ]
    }
   ],
   "source": [
    "top_earliest = users.sort_values(by='created_at').head()\n",
    "print(','.join(top_earliest['login'].tolist()))"
   ]
  },
  {
   "cell_type": "markdown",
   "id": "1675cbcf-6a8b-4af8-b24a-1372f68efd6b",
   "metadata": {},
   "source": [
    "#### Q3. What are the 3 most popular license among these users? Ignore missing licenses. List the license_name in order, comma-separated."
   ]
  },
  {
   "cell_type": "code",
   "execution_count": 7,
   "id": "a139a9a8-9ded-4175-b023-fe871850f3a4",
   "metadata": {},
   "outputs": [
    {
     "data": {
      "text/html": [
       "<div>\n",
       "<style scoped>\n",
       "    .dataframe tbody tr th:only-of-type {\n",
       "        vertical-align: middle;\n",
       "    }\n",
       "\n",
       "    .dataframe tbody tr th {\n",
       "        vertical-align: top;\n",
       "    }\n",
       "\n",
       "    .dataframe thead th {\n",
       "        text-align: right;\n",
       "    }\n",
       "</style>\n",
       "<table border=\"1\" class=\"dataframe\">\n",
       "  <thead>\n",
       "    <tr style=\"text-align: right;\">\n",
       "      <th></th>\n",
       "      <th>login</th>\n",
       "      <th>full_name</th>\n",
       "      <th>created_at</th>\n",
       "      <th>stargazers_count</th>\n",
       "      <th>watchers_count</th>\n",
       "      <th>language</th>\n",
       "      <th>has_projects</th>\n",
       "      <th>has_wiki</th>\n",
       "      <th>license_name</th>\n",
       "    </tr>\n",
       "  </thead>\n",
       "  <tbody>\n",
       "    <tr>\n",
       "      <th>0</th>\n",
       "      <td>brianyu28</td>\n",
       "      <td>brianyu28/cs50</td>\n",
       "      <td>2019-09-17T15:00:36Z</td>\n",
       "      <td>19</td>\n",
       "      <td>19</td>\n",
       "      <td>HTML</td>\n",
       "      <td>True</td>\n",
       "      <td>True</td>\n",
       "      <td>NaN</td>\n",
       "    </tr>\n",
       "    <tr>\n",
       "      <th>1</th>\n",
       "      <td>brianyu28</td>\n",
       "      <td>brianyu28/scratch-to-blocks</td>\n",
       "      <td>2020-05-02T11:08:11Z</td>\n",
       "      <td>11</td>\n",
       "      <td>11</td>\n",
       "      <td>Python</td>\n",
       "      <td>True</td>\n",
       "      <td>True</td>\n",
       "      <td>NaN</td>\n",
       "    </tr>\n",
       "    <tr>\n",
       "      <th>2</th>\n",
       "      <td>brianyu28</td>\n",
       "      <td>brianyu28/holyoke</td>\n",
       "      <td>2022-06-09T00:21:08Z</td>\n",
       "      <td>6</td>\n",
       "      <td>6</td>\n",
       "      <td>Swift</td>\n",
       "      <td>True</td>\n",
       "      <td>True</td>\n",
       "      <td>NaN</td>\n",
       "    </tr>\n",
       "    <tr>\n",
       "      <th>3</th>\n",
       "      <td>brianyu28</td>\n",
       "      <td>brianyu28/dispatch</td>\n",
       "      <td>2017-08-26T21:43:51Z</td>\n",
       "      <td>39</td>\n",
       "      <td>39</td>\n",
       "      <td>Rust</td>\n",
       "      <td>True</td>\n",
       "      <td>True</td>\n",
       "      <td>gpl-3.0</td>\n",
       "    </tr>\n",
       "    <tr>\n",
       "      <th>4</th>\n",
       "      <td>brianyu28</td>\n",
       "      <td>brianyu28/multicolor</td>\n",
       "      <td>2024-04-08T22:45:21Z</td>\n",
       "      <td>5</td>\n",
       "      <td>5</td>\n",
       "      <td>TypeScript</td>\n",
       "      <td>True</td>\n",
       "      <td>True</td>\n",
       "      <td>NaN</td>\n",
       "    </tr>\n",
       "  </tbody>\n",
       "</table>\n",
       "</div>"
      ],
      "text/plain": [
       "       login                    full_name            created_at  \\\n",
       "0  brianyu28               brianyu28/cs50  2019-09-17T15:00:36Z   \n",
       "1  brianyu28  brianyu28/scratch-to-blocks  2020-05-02T11:08:11Z   \n",
       "2  brianyu28            brianyu28/holyoke  2022-06-09T00:21:08Z   \n",
       "3  brianyu28           brianyu28/dispatch  2017-08-26T21:43:51Z   \n",
       "4  brianyu28         brianyu28/multicolor  2024-04-08T22:45:21Z   \n",
       "\n",
       "   stargazers_count  watchers_count    language  has_projects  has_wiki  \\\n",
       "0                19              19        HTML          True      True   \n",
       "1                11              11      Python          True      True   \n",
       "2                 6               6       Swift          True      True   \n",
       "3                39              39        Rust          True      True   \n",
       "4                 5               5  TypeScript          True      True   \n",
       "\n",
       "  license_name  \n",
       "0          NaN  \n",
       "1          NaN  \n",
       "2          NaN  \n",
       "3      gpl-3.0  \n",
       "4          NaN  "
      ]
     },
     "execution_count": 7,
     "metadata": {},
     "output_type": "execute_result"
    }
   ],
   "source": [
    "repos = pd.read_csv('repositories.csv')\n",
    "repos.head()"
   ]
  },
  {
   "cell_type": "code",
   "execution_count": 8,
   "id": "f5b0a4ce-ae41-4066-a59a-58e81f27ad47",
   "metadata": {},
   "outputs": [
    {
     "data": {
      "text/plain": [
       "license_name\n",
       "mit           9898\n",
       "other         4661\n",
       "apache-2.0    3559\n",
       "Name: count, dtype: int64"
      ]
     },
     "execution_count": 8,
     "metadata": {},
     "output_type": "execute_result"
    }
   ],
   "source": [
    "repos['license_name'].value_counts().head(3)"
   ]
  },
  {
   "cell_type": "markdown",
   "id": "662f1894-2c60-429c-b06d-cbe36afe6f08",
   "metadata": {},
   "source": [
    "#### Q4. Which company do the majority of these developers work at?"
   ]
  },
  {
   "cell_type": "code",
   "execution_count": 9,
   "id": "93a985b2-4e56-4871-9757-23e6ae5ed0de",
   "metadata": {},
   "outputs": [
    {
     "data": {
      "text/plain": [
       "company\n",
       "NORTHEASTERN UNIVERSITY    16\n",
       "Name: count, dtype: int64"
      ]
     },
     "execution_count": 9,
     "metadata": {},
     "output_type": "execute_result"
    }
   ],
   "source": [
    "users['company'].value_counts().head(1)"
   ]
  },
  {
   "cell_type": "markdown",
   "id": "3e73104c-f44c-4e59-aecc-cb10a34578a1",
   "metadata": {},
   "source": [
    "#### Q5. Which programming language is most popular among these users?"
   ]
  },
  {
   "cell_type": "code",
   "execution_count": 10,
   "id": "1abcf548-42aa-43fc-837e-86c6db860617",
   "metadata": {},
   "outputs": [
    {
     "data": {
      "text/plain": [
       "language\n",
       "JavaScript    7695\n",
       "Name: count, dtype: int64"
      ]
     },
     "execution_count": 10,
     "metadata": {},
     "output_type": "execute_result"
    }
   ],
   "source": [
    "repos['language'].value_counts().head(1)"
   ]
  },
  {
   "cell_type": "markdown",
   "id": "bf7abc13-3226-4c35-b42e-400f06cac01d",
   "metadata": {},
   "source": [
    "#### Q6. Which programming language is the second most popular among users who joined after 2020?"
   ]
  },
  {
   "cell_type": "code",
   "execution_count": 11,
   "id": "d01727ac-d1de-4407-a65b-db7a88223d81",
   "metadata": {},
   "outputs": [
    {
     "data": {
      "text/html": [
       "<div>\n",
       "<style scoped>\n",
       "    .dataframe tbody tr th:only-of-type {\n",
       "        vertical-align: middle;\n",
       "    }\n",
       "\n",
       "    .dataframe tbody tr th {\n",
       "        vertical-align: top;\n",
       "    }\n",
       "\n",
       "    .dataframe thead th {\n",
       "        text-align: right;\n",
       "    }\n",
       "</style>\n",
       "<table border=\"1\" class=\"dataframe\">\n",
       "  <thead>\n",
       "    <tr style=\"text-align: right;\">\n",
       "      <th></th>\n",
       "      <th>login</th>\n",
       "      <th>name</th>\n",
       "      <th>company</th>\n",
       "      <th>location</th>\n",
       "      <th>email</th>\n",
       "      <th>hireable</th>\n",
       "      <th>bio</th>\n",
       "      <th>public_repos</th>\n",
       "      <th>followers</th>\n",
       "      <th>following</th>\n",
       "      <th>created_at</th>\n",
       "    </tr>\n",
       "  </thead>\n",
       "  <tbody>\n",
       "    <tr>\n",
       "      <th>3</th>\n",
       "      <td>CharlesCreativeContent</td>\n",
       "      <td>Shawn Charles</td>\n",
       "      <td>AMAZON</td>\n",
       "      <td>Boston, MA</td>\n",
       "      <td>NaN</td>\n",
       "      <td>True</td>\n",
       "      <td>Software Engineer building Tech Communities</td>\n",
       "      <td>83</td>\n",
       "      <td>5056</td>\n",
       "      <td>1092</td>\n",
       "      <td>2020-03-11 20:10:11+00:00</td>\n",
       "    </tr>\n",
       "    <tr>\n",
       "      <th>47</th>\n",
       "      <td>neuralmagic</td>\n",
       "      <td>Neural Magic</td>\n",
       "      <td>NaN</td>\n",
       "      <td>Boston</td>\n",
       "      <td>NaN</td>\n",
       "      <td>False</td>\n",
       "      <td>Neural Magic helps developers in accelerating ...</td>\n",
       "      <td>57</td>\n",
       "      <td>762</td>\n",
       "      <td>0</td>\n",
       "      <td>2020-07-23 00:16:47+00:00</td>\n",
       "    </tr>\n",
       "    <tr>\n",
       "      <th>101</th>\n",
       "      <td>Lanny-MacMillan</td>\n",
       "      <td>Lanny MacMillan</td>\n",
       "      <td>THRYV</td>\n",
       "      <td>Boston, Ma</td>\n",
       "      <td>NaN</td>\n",
       "      <td>False</td>\n",
       "      <td>Software Developer / Game Developer\\r\\nReact.j...</td>\n",
       "      <td>22</td>\n",
       "      <td>396</td>\n",
       "      <td>719</td>\n",
       "      <td>2022-04-01 18:10:46+00:00</td>\n",
       "    </tr>\n",
       "    <tr>\n",
       "      <th>109</th>\n",
       "      <td>ibrahimgurhandev</td>\n",
       "      <td>Ibrahim Gurhan</td>\n",
       "      <td>RESILIENT CODERS</td>\n",
       "      <td>Boston MA</td>\n",
       "      <td>NaN</td>\n",
       "      <td>False</td>\n",
       "      <td>Software Engineer at  Resilient Coders | Web D...</td>\n",
       "      <td>36</td>\n",
       "      <td>361</td>\n",
       "      <td>798</td>\n",
       "      <td>2020-07-20 04:11:30+00:00</td>\n",
       "    </tr>\n",
       "    <tr>\n",
       "      <th>123</th>\n",
       "      <td>jessicajaniuk</td>\n",
       "      <td>Jessica Janiuk</td>\n",
       "      <td>GOOGLE</td>\n",
       "      <td>Boston, MA</td>\n",
       "      <td>NaN</td>\n",
       "      <td>False</td>\n",
       "      <td>This account is retired. Find Jessica at githu...</td>\n",
       "      <td>6</td>\n",
       "      <td>329</td>\n",
       "      <td>0</td>\n",
       "      <td>2020-10-12 21:49:39+00:00</td>\n",
       "    </tr>\n",
       "  </tbody>\n",
       "</table>\n",
       "</div>"
      ],
      "text/plain": [
       "                      login             name           company    location  \\\n",
       "3    CharlesCreativeContent    Shawn Charles            AMAZON  Boston, MA   \n",
       "47              neuralmagic     Neural Magic               NaN      Boston   \n",
       "101         Lanny-MacMillan  Lanny MacMillan             THRYV  Boston, Ma   \n",
       "109        ibrahimgurhandev   Ibrahim Gurhan  RESILIENT CODERS   Boston MA   \n",
       "123           jessicajaniuk   Jessica Janiuk            GOOGLE  Boston, MA   \n",
       "\n",
       "    email  hireable                                                bio  \\\n",
       "3     NaN      True        Software Engineer building Tech Communities   \n",
       "47    NaN     False  Neural Magic helps developers in accelerating ...   \n",
       "101   NaN     False  Software Developer / Game Developer\\r\\nReact.j...   \n",
       "109   NaN     False  Software Engineer at  Resilient Coders | Web D...   \n",
       "123   NaN     False  This account is retired. Find Jessica at githu...   \n",
       "\n",
       "     public_repos  followers  following                created_at  \n",
       "3              83       5056       1092 2020-03-11 20:10:11+00:00  \n",
       "47             57        762          0 2020-07-23 00:16:47+00:00  \n",
       "101            22        396        719 2022-04-01 18:10:46+00:00  \n",
       "109            36        361        798 2020-07-20 04:11:30+00:00  \n",
       "123             6        329          0 2020-10-12 21:49:39+00:00  "
      ]
     },
     "execution_count": 11,
     "metadata": {},
     "output_type": "execute_result"
    }
   ],
   "source": [
    "users_after_2020 = users[users['created_at'] > '2020-01-01']\n",
    "users_after_2020.head()"
   ]
  },
  {
   "cell_type": "code",
   "execution_count": 12,
   "id": "aee537b6-38c7-4aa5-baae-c398fe385053",
   "metadata": {},
   "outputs": [
    {
     "data": {
      "text/plain": [
       "language\n",
       "JavaScript    98\n",
       "Python        86\n",
       "TypeScript    38\n",
       "HTML          34\n",
       "CSS           14\n",
       "Name: count, dtype: int64"
      ]
     },
     "execution_count": 12,
     "metadata": {},
     "output_type": "execute_result"
    }
   ],
   "source": [
    "repos_2020 = repos[repos['login'].isin(users_after_2020['login'].tolist())]\n",
    "repos_2020['language'].value_counts().head()"
   ]
  },
  {
   "cell_type": "markdown",
   "id": "d0b07a2f-bcae-496b-ab7e-188a2f0aa7be",
   "metadata": {},
   "source": [
    "#### Q7. Which language has the highest average number of stars per repository? "
   ]
  },
  {
   "cell_type": "code",
   "execution_count": 13,
   "id": "8c8a119a-e562-4855-8330-23b6dccdfea9",
   "metadata": {},
   "outputs": [
    {
     "name": "stdout",
     "output_type": "stream",
     "text": [
      "SQL 714.0\n"
     ]
    }
   ],
   "source": [
    "avg_stars = repos.groupby('language')['stargazers_count'].mean()\n",
    "top_lang = avg_stars.idxmax()\n",
    "top_stars = avg_stars.max()\n",
    "print(top_lang, top_stars)"
   ]
  },
  {
   "cell_type": "markdown",
   "id": "e430846a-1518-409f-8717-cb2f84570460",
   "metadata": {},
   "source": [
    "#### Q8. Let's define leader_strength as followers / (1 + following). Who are the top 5 in terms of leader_strength? List their login in order, comma-separated."
   ]
  },
  {
   "cell_type": "code",
   "execution_count": 14,
   "id": "aa51b046-149f-4ef5-89ff-62586043992c",
   "metadata": {},
   "outputs": [
    {
     "name": "stdout",
     "output_type": "stream",
     "text": [
      "nikomatsakis,ccoenraets,KeithGalli,rstudio,pluskid\n"
     ]
    }
   ],
   "source": [
    "users['leader_strength'] = users['followers'] / (1 + users['following'])\n",
    "top5_lead = users.sort_values(by='leader_strength', ascending=False).head()\n",
    "print(','.join(top5_lead['login'].tolist()))"
   ]
  },
  {
   "cell_type": "markdown",
   "id": "8dd87be3-3a61-4fe1-ab5c-1ef836c545d3",
   "metadata": {},
   "source": [
    "#### Q9. What is the correlation between the number of followers and the number of public repositories among users in Basel?"
   ]
  },
  {
   "cell_type": "code",
   "execution_count": 15,
   "id": "91e8b274-bde5-41ac-91d2-d965334f2d35",
   "metadata": {},
   "outputs": [
    {
     "data": {
      "text/plain": [
       "0.16798072850061646"
      ]
     },
     "execution_count": 15,
     "metadata": {},
     "output_type": "execute_result"
    }
   ],
   "source": [
    "correlation = users['followers'].corr(users['public_repos'])\n",
    "correlation"
   ]
  },
  {
   "cell_type": "markdown",
   "id": "23dac608-8b88-48d8-aeae-1e11b2cb2b87",
   "metadata": {},
   "source": [
    "#### Q10. Does creating more repos help users get more followers? Using regression, estimate how many additional followers a user gets per additional public repository."
   ]
  },
  {
   "cell_type": "code",
   "execution_count": 16,
   "id": "9eede565-f813-4807-989b-051201f7f411",
   "metadata": {},
   "outputs": [
    {
     "name": "stdout",
     "output_type": "stream",
     "text": [
      "1.189\n"
     ]
    }
   ],
   "source": [
    "import csv\n",
    "followers = []\n",
    "public_repos = []\n",
    "with open('users.csv', 'r', encoding='utf-8') as file:\n",
    "    reader = csv.DictReader(file)\n",
    "    for row in reader:\n",
    "        followers_count = int(row['followers'])\n",
    "        public_repos_count = int(row['public_repos'])\n",
    "        followers.append(followers_count)\n",
    "        public_repos.append(public_repos_count)\n",
    "if len(followers) > 1 and len(public_repos) > 1:\n",
    "    slope, intercept = np.polyfit(public_repos, followers, 1)\n",
    "    \n",
    "    print(f\"{slope:.3f}\")\n",
    "else:\n",
    "    print(\"Error\")"
   ]
  },
  {
   "cell_type": "markdown",
   "id": "b1739602-5cef-48d6-a3ef-3ecc1d12f405",
   "metadata": {},
   "source": [
    "#### Q11. Do people typically enable projects and wikis together? What is the correlation between a repo having projects enabled and having wiki enabled?"
   ]
  },
  {
   "cell_type": "code",
   "execution_count": 17,
   "id": "e680160d-cfa3-42ef-be27-55a772b77171",
   "metadata": {},
   "outputs": [
    {
     "name": "stdout",
     "output_type": "stream",
     "text": [
      "0.324\n"
     ]
    }
   ],
   "source": [
    "if repos['has_projects'].dtype == 'object':\n",
    "    repos['has_projects'] = repos['has_projects'].map({'true': True, 'false': False})\n",
    "if repos['has_wiki'].dtype == 'object':\n",
    "    repos['has_wiki'] = repos['has_wiki'].map({'true': True, 'false': False})\n",
    "    \n",
    "correlation = repos['has_projects'].corr(repos['has_wiki'])\n",
    "    \n",
    "print(round(correlation, 3))"
   ]
  },
  {
   "cell_type": "markdown",
   "id": "7d1c5de4-b714-46e2-af6a-ad41e8a42f8f",
   "metadata": {},
   "source": [
    "#### Q12. Do hireable users follow more people than those who are not hireable?"
   ]
  },
  {
   "cell_type": "code",
   "execution_count": 18,
   "id": "cd51bed6-bba7-4407-94a9-ccc5e3968b4d",
   "metadata": {},
   "outputs": [
    {
     "data": {
      "text/plain": [
       "111.3778537963858"
      ]
     },
     "execution_count": 18,
     "metadata": {},
     "output_type": "execute_result"
    }
   ],
   "source": [
    "hireable_avg_following = users[users['hireable'] == True]['following'].mean()\n",
    "non_hireable_avg_following = users[users['hireable'] == False]['following'].mean()\n",
    "difference = hireable_avg_following - non_hireable_avg_following\n",
    "difference"
   ]
  },
  {
   "cell_type": "markdown",
   "id": "1f30dbcf-90f2-4531-b37c-0386828e1f9f",
   "metadata": {},
   "source": [
    "#### Q13. Some developers write long bios. Does that help them get more followers? What's the correlation of the length of their bio (in Unicode characters) with followers? (Ignore people without bios)"
   ]
  },
  {
   "cell_type": "code",
   "execution_count": 8,
   "id": "a324c8b4-9faf-4f4d-9c3d-0813e6bdbfb8",
   "metadata": {},
   "outputs": [
    {
     "name": "stdout",
     "output_type": "stream",
     "text": [
      "-0.8112187484833792\n"
     ]
    }
   ],
   "source": [
    "import pandas as pd\n",
    "from sklearn.linear_model import LinearRegression\n",
    "# Load the CSV file into a DataFrame\n",
    "users = pd.read_csv('users.csv')\n",
    "# Filter users with non-empty 'bio' and create a new column 'bio_len' for the length of the bio\n",
    "users_with_bio = users[(users['bio'].notna()) & (users['bio'] != '')].copy()\n",
    "users_with_bio.loc[:, 'bio_len'] = users_with_bio['bio'].str.len()\n",
    "# Prepare the data for linear regression\n",
    "X = users_with_bio['bio_len'].values.reshape(-1, 1)\n",
    "y = users_with_bio['followers']\n",
    "# Perform linear regression\n",
    "lr2 = LinearRegression()\n",
    "lr2.fit(X, y)\n",
    "\n",
    "# Print the coefficient\n",
    "print(lr2.coef_[0])\n"
   ]
  },
  {
   "cell_type": "markdown",
   "id": "96cb22e4-4046-40cf-9be5-06f096b0f0c3",
   "metadata": {},
   "source": [
    "#### Q14. Who created the most repositories on weekends (UTC)? List the top 5 users' login in order, comma-separated"
   ]
  },
  {
   "cell_type": "code",
   "execution_count": 20,
   "id": "ab49dafe-2981-4fe1-b603-0bee0e61e04f",
   "metadata": {},
   "outputs": [
    {
     "name": "stdout",
     "output_type": "stream",
     "text": [
      "cameronraysmith,berquist,burtbeckwith,jimkang,johnny-rice\n"
     ]
    }
   ],
   "source": [
    "import csv\n",
    "from collections import Counter\n",
    "from datetime import datetime\n",
    "\n",
    "weekend_repo_counts = Counter()\n",
    "\n",
    "with open('repositories.csv', 'r', encoding='utf-8') as file:\n",
    "    reader = csv.DictReader(file)\n",
    "    \n",
    "    for row in reader:\n",
    "        created_at = row.get('created_at', '')\n",
    "        if created_at:\n",
    "            created_date = datetime.fromisoformat(created_at[:-1])  \n",
    "            \n",
    "            if created_date.weekday() in [5, 6]:\n",
    "                user_login = row['login']\n",
    "                weekend_repo_counts[user_login] += 1  \n",
    "\n",
    "top_users = weekend_repo_counts.most_common(5)\n",
    "\n",
    "top_logins = [user[0] for user in top_users]\n",
    "\n",
    "print(','.join(top_logins))"
   ]
  },
  {
   "cell_type": "markdown",
   "id": "6d9da60a-2ff0-4421-808e-ab9a74bf02fb",
   "metadata": {},
   "source": [
    "#### Q15. Do people who are hireable share their email addresses more often?"
   ]
  },
  {
   "cell_type": "code",
   "execution_count": 21,
   "id": "b8381831-d1ed-4855-afc2-97ad1c06a1af",
   "metadata": {},
   "outputs": [
    {
     "data": {
      "text/plain": [
       "0.11672987779182475"
      ]
     },
     "execution_count": 21,
     "metadata": {},
     "output_type": "execute_result"
    }
   ],
   "source": [
    "fraction_hierable = users[users['hireable'] == True]['email'].notna().mean()\n",
    "fraction_non_hierable = users[users['hireable'] == False]['email'].notna().mean()\n",
    "diff = fraction_hierable - fraction_non_hierable\n",
    "diff"
   ]
  },
  {
   "cell_type": "markdown",
   "id": "806a227e-1285-4c5f-bb05-867a3fd5101a",
   "metadata": {},
   "source": [
    "#### Q16. Let's assume that the last word in a user's name is their surname (ignore missing names, trim and split by whitespace.) What's the most common surname? (If there's a tie, list them all, comma-separated, alphabetically)"
   ]
  },
  {
   "cell_type": "code",
   "execution_count": 22,
   "id": "01a24dfb-05cc-4528-b118-558b2307639c",
   "metadata": {},
   "outputs": [
    {
     "name": "stdout",
     "output_type": "stream",
     "text": [
      "Williams\n"
     ]
    }
   ],
   "source": [
    "new_users = users[users['name'].notna()].copy()\n",
    "new_users['surname'] = new_users['name'].str.split().str[-1].str.strip()\n",
    "surname_counts = new_users['surname'].value_counts()\n",
    "max_count = surname_counts.max()\n",
    "common_surnames = surname_counts[surname_counts == max_count].index.tolist()\n",
    "common_surnames.sort()\n",
    "print(','.join(common_surnames))"
   ]
  },
  {
   "cell_type": "code",
   "execution_count": 23,
   "id": "2cc25d8c-a405-46d2-ba14-78bf49fabbc6",
   "metadata": {},
   "outputs": [],
   "source": [
    "# users = users.fillna(\"\").astype(str)\n",
    "# repos = repos.fillna(\"\").astype(str)\n",
    "\n",
    "# repos['has_wiki'] = repos['has_wiki'].astype(str).replace({'True': 'true', 'False': 'false'})\n",
    "# repos['has_projects'] = repos['has_projects'].astype(str).replace({'True': 'true', 'False': 'false'})\n",
    "\n",
    "# # users.to_csv('users1.csv', index=False)\n",
    "# repos.to_csv('repos1.csv', index=False)"
   ]
  }
 ],
 "metadata": {
  "kernelspec": {
   "display_name": "Python 3",
   "language": "python",
   "name": "python3"
  },
  "language_info": {
   "codemirror_mode": {
    "name": "ipython",
    "version": 3
   },
   "file_extension": ".py",
   "mimetype": "text/x-python",
   "name": "python",
   "nbconvert_exporter": "python",
   "pygments_lexer": "ipython3",
   "version": "3.11.5"
  }
 },
 "nbformat": 4,
 "nbformat_minor": 5
}
